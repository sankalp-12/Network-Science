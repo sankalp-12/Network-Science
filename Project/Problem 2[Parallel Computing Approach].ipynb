{
  "nbformat": 4,
  "nbformat_minor": 0,
  "metadata": {
    "colab": {
      "provenance": []
    },
    "kernelspec": {
      "name": "python3",
      "display_name": "Python 3"
    },
    "language_info": {
      "name": "python"
    },
    "accelerator": "GPU",
    "gpuClass": "standard"
  },
  "cells": [
    {
      "cell_type": "code",
      "execution_count": null,
      "metadata": {
        "colab": {
          "base_uri": "https://localhost:8080/"
        },
        "id": "9yjUbZTEUEUe",
        "outputId": "1cf6c31b-9ec5-488c-8ec3-c2669b49650e"
      },
      "outputs": [
        {
          "output_type": "stream",
          "name": "stdout",
          "text": [
            "nvcc: NVIDIA (R) Cuda compiler driver\n",
            "Copyright (c) 2005-2022 NVIDIA Corporation\n",
            "Built on Wed_Sep_21_10:33:58_PDT_2022\n",
            "Cuda compilation tools, release 11.8, V11.8.89\n",
            "Build cuda_11.8.r11.8/compiler.31833905_0\n"
          ]
        }
      ],
      "source": [
        "!nvcc --version"
      ]
    },
    {
      "cell_type": "code",
      "source": [
        "!pip install git+https://github.com/andreinechaev/nvcc4jupyter.git"
      ],
      "metadata": {
        "colab": {
          "base_uri": "https://localhost:8080/"
        },
        "id": "DQMAGNnEUGMk",
        "outputId": "fda1e887-8472-472e-9dea-270cb1bf4d07"
      },
      "execution_count": null,
      "outputs": [
        {
          "output_type": "stream",
          "name": "stdout",
          "text": [
            "Looking in indexes: https://pypi.org/simple, https://us-python.pkg.dev/colab-wheels/public/simple/\n",
            "Collecting git+https://github.com/andreinechaev/nvcc4jupyter.git\n",
            "  Cloning https://github.com/andreinechaev/nvcc4jupyter.git to /tmp/pip-req-build-57yla8fn\n",
            "  Running command git clone --filter=blob:none --quiet https://github.com/andreinechaev/nvcc4jupyter.git /tmp/pip-req-build-57yla8fn\n",
            "  Resolved https://github.com/andreinechaev/nvcc4jupyter.git to commit aac710a35f52bb78ab34d2e52517237941399eff\n",
            "  Preparing metadata (setup.py) ... \u001b[?25l\u001b[?25hdone\n"
          ]
        }
      ]
    },
    {
      "cell_type": "code",
      "source": [
        "%load_ext nvcc_plugin"
      ],
      "metadata": {
        "colab": {
          "base_uri": "https://localhost:8080/"
        },
        "id": "gAG95yvqUH8M",
        "outputId": "5ab36fd3-0e38-44dd-83e9-4469f8c5828b"
      },
      "execution_count": null,
      "outputs": [
        {
          "output_type": "stream",
          "name": "stdout",
          "text": [
            "The nvcc_plugin extension is already loaded. To reload it, use:\n",
            "  %reload_ext nvcc_plugin\n"
          ]
        }
      ]
    },
    {
      "cell_type": "code",
      "source": [
        "!wget \"https://raw.githubusercontent.com/Daksh-Axel/dataset/main/test.edgelist\""
      ],
      "metadata": {
        "colab": {
          "base_uri": "https://localhost:8080/"
        },
        "id": "UvEkAuiGpCDQ",
        "outputId": "291b0dac-6a01-4f23-e5ab-8492431b2890"
      },
      "execution_count": null,
      "outputs": [
        {
          "output_type": "stream",
          "name": "stdout",
          "text": [
            "--2023-04-30 05:30:49--  https://raw.githubusercontent.com/Daksh-Axel/dataset/main/test.edgelist\n",
            "Resolving raw.githubusercontent.com (raw.githubusercontent.com)... 185.199.108.133, 185.199.109.133, 185.199.110.133, ...\n",
            "Connecting to raw.githubusercontent.com (raw.githubusercontent.com)|185.199.108.133|:443... connected.\n",
            "HTTP request sent, awaiting response... 200 OK\n",
            "Length: 411 [text/plain]\n",
            "Saving to: ‘test.edgelist’\n",
            "\n",
            "\rtest.edgelist         0%[                    ]       0  --.-KB/s               \rtest.edgelist       100%[===================>]     411  --.-KB/s    in 0s      \n",
            "\n",
            "2023-04-30 05:30:49 (27.9 MB/s) - ‘test.edgelist’ saved [411/411]\n",
            "\n"
          ]
        }
      ]
    },
    {
      "cell_type": "code",
      "source": [
        "%%cu\n",
        "#include<bits/stdc++.h>\n",
        "#include<cuda.h>\n",
        "#include <sys/time.h>\n",
        "#define inf 1000000000\n",
        "using namespace std;\n",
        "\n",
        "\n",
        "\n",
        "__device__ void recover_path(int* par,int s,int e, int *path, int *bc,int n){\n",
        "    if(e==s){\n",
        "        for(int i=1;i<path[0];i++){\n",
        "            if(path[i]==e) break;\n",
        "            bc[path[i]]++;\n",
        "        }\n",
        "        return;\n",
        "    }\n",
        "\n",
        "    for(int v=1;v<=par[e*n];v++){\n",
        "        int p=par[e*n+v];\n",
        "        path[++path[0]]=p;\n",
        "        recover_path(par,s,p,path,bc,n);\n",
        "        path[0]--;\n",
        "    }\n",
        "}\n",
        "\n",
        "\n",
        "\n",
        "__device__ void STRESS_CENTRALITY(int src,int n, int *adj,int *stress_cen,int uver,int vver){\n",
        "\n",
        "    int *par = new int[n*(n+1)];\n",
        "    int *dist= new int[n];\n",
        "    for(int i=0;i<n;i++){\n",
        "        dist[i]=inf;\n",
        "        par[i*n]=0;\n",
        "    }\n",
        "    int *q=new int[n];\n",
        "    int wcnt=0,rcnt=0;\n",
        "    \n",
        "    q[wcnt++]=src;\n",
        "    dist[src]=0;\n",
        "\n",
        "    while(rcnt<wcnt){\n",
        "        int u=q[rcnt++];\n",
        "        for(int ver=1;ver<=adj[u*n]+1;ver++){\n",
        "            int v;\n",
        "            if(ver==adj[u*n]+1){\n",
        "                if(u==uver) v=vver;\n",
        "                else if(u==vver) v=uver;\n",
        "                else break;\n",
        "            }\n",
        "            else v=adj[u*n+ver];\n",
        "            if(dist[v]>dist[u]+1){\n",
        "                dist[v] = dist[u]+1;\n",
        "                par[v*n] = 0;\n",
        "                par[v*n + par[v*n]+1] = u; par[v*n]++;\n",
        "                q[wcnt++] = v;\n",
        "            }\n",
        "            else if(dist[v]==dist[u]+1){\n",
        "                par[v*n + par[v*n]+1] = u; par[v*n]++;\n",
        "                \n",
        "            }\n",
        "        }\n",
        "    }\n",
        "    for(int dst=0;dst<n;dst++){\n",
        "        if(src!=dst && dist[dst]!=inf){\n",
        "            int *SC = new int[n]; \n",
        "            for(int i=0;i<n;i++) SC[i]=0;\n",
        "            int *path = new int[n];\n",
        "            path[0]=0;\n",
        "            recover_path(par,src,dst,path,SC,n);\n",
        "            for(int v=0;v<n;v++){\n",
        "                stress_cen[v]+=SC[v];\n",
        "            }\n",
        "            delete[] SC;\n",
        "            delete[] path;\n",
        "        }\n",
        "    }\n",
        "    delete[] par;\n",
        "    delete[] dist;\n",
        "    delete[] q;\n",
        "    \n",
        "}\n",
        "__global__ void SC_kernel(int n,int *adj,int *SC,int u,int v,int *min_SC,int *opt_edge){\n",
        "    int src = blockIdx.x*blockDim.x + threadIdx.x;\n",
        "    int *temp = new int[n];\n",
        "    \n",
        "    for(int node=0;node<n;node++){\n",
        "        temp[node]=0;\n",
        "        SC[node]=0;\n",
        "    }\n",
        "    STRESS_CENTRALITY(src,n,adj,temp,u,v);\n",
        "     __syncthreads();\n",
        "   \n",
        "    for(int node = 0;node<n;node++){\n",
        "        atomicAdd(&SC[node], temp[node]);\n",
        "    }\n",
        "     __syncthreads();\n",
        "    if(src==0){\n",
        "        for(int node=0;node<n;node++){\n",
        "          SC[node]/=2;\n",
        "          if(min_SC[node]>SC[node]){\n",
        "              min_SC[node]=SC[node];\n",
        "              opt_edge[node]=u*n+v;\n",
        "          }\n",
        "        }\n",
        "    }\n",
        "    delete[] temp;\n",
        "}\n",
        "\n",
        "int main()\n",
        "{\n",
        "    freopen(\"test.edgelist\",\"r\",stdin);\n",
        "    freopen(\"op.txt\",\"w+\",stdout);\n",
        "    \n",
        "    int n,m;\n",
        "    cin>>n>>m;\n",
        "    int adj[n*(n+1)];\n",
        "    int SC[n];\n",
        "    set<pair<int,int>> edges;\n",
        "    \n",
        "    for(int i=0;i<n;i++){\n",
        "        adj[i*n]=0;\n",
        "        SC[i]=0;\n",
        "    }\n",
        "    for(int i=0;i<m;i++){\n",
        "        int u,v;\n",
        "        cin>>u>>v;\n",
        "        adj[u*n+adj[u*n]+1]=v; adj[u*n]++;\n",
        "        adj[v*n+adj[v*n]+1]=u; adj[v*n]++;\n",
        "        edges.insert({u,v});\n",
        "    }\n",
        " \n",
        "    int *d_adj;\n",
        "    cudaMalloc(&d_adj,n*(n+1)*sizeof(int));\n",
        "    cudaMemcpy(d_adj,adj,n*(n+1)*sizeof(int),cudaMemcpyHostToDevice);\n",
        " \n",
        "    int *d_SC;\n",
        "    cudaMalloc(&d_SC,n*sizeof(int));\n",
        "    cudaMemcpy(d_SC,SC,n*sizeof(int),cudaMemcpyHostToDevice);\n",
        " \n",
        "    int max_SC[n];for(int i=0;i<n;i++) max_SC[i] = inf;\n",
        " \n",
        "    int *d_min_SC;\n",
        "    cudaMalloc(&d_min_SC,n*sizeof(int));\n",
        "    cudaMemcpy(d_min_SC,max_SC,n*sizeof(int),cudaMemcpyHostToDevice);\n",
        "    \n",
        "    int *opt_edge;\n",
        "    cudaMalloc(&opt_edge,n*sizeof(int));\n",
        "    cudaMemcpy(opt_edge,SC,n*sizeof(int),cudaMemcpyHostToDevice);\n",
        "    \n",
        "    SC_kernel<<<1, n>>>(n,d_adj,d_SC,-1,-1,d_min_SC,opt_edge);\n",
        "    cudaDeviceSynchronize();\n",
        "    cudaMemcpy(SC,d_min_SC,n*sizeof(int),cudaMemcpyDeviceToHost);\n",
        "    printf(\"Initial Stress Centrality:\\n\");\n",
        "    for(int i=0;i<n;i++) printf(\"%d \",SC[i]);\n",
        "    printf(\"\\n\");\n",
        "\n",
        " \n",
        "    for(int u=0;u<n;u++){\n",
        "        for(int v=u+1;v<n;v++){\n",
        "            if(edges.find({u,v})!=edges.end()) continue;\n",
        "            SC_kernel<<<1, n>>>(n,d_adj,d_SC,u,v,d_min_SC,opt_edge);\n",
        "            cudaError_t cudaError = cudaGetLastError();\n",
        "            if (cudaError != cudaSuccess) {\n",
        "                const char* errorMessage = cudaGetErrorString(cudaError);\n",
        "                printf(\"CUDA error: %s\\n\", errorMessage);\n",
        "                break;\n",
        "            }\n",
        "            cudaDeviceSynchronize();\n",
        "        }\n",
        "     }\n",
        "    \n",
        "    cudaMemcpy(SC,d_min_SC,n*sizeof(int),cudaMemcpyDeviceToHost);\n",
        "    printf(\"Minimum Stress Centrality:\\n\");\n",
        "    for(int i=0;i<n;i++) printf(\"%d \",SC[i]);\n",
        " \n",
        "    int oe[n];\n",
        "    cudaMemcpy(oe,opt_edge,n*sizeof(int),cudaMemcpyDeviceToHost);\n",
        "    printf(\"Optimal Edges for respective nodes:\\n\");\n",
        "    for(int node=0;node<n;node++){\n",
        "        int a=oe[node]%n,b=oe[node]/n;\n",
        "        printf(\"Node: %d ==> (%d,%d)\\n\",node,a,b);\n",
        "    }\n",
        "\n",
        "    return 0;\n",
        "}\n"
      ],
      "metadata": {
        "colab": {
          "base_uri": "https://localhost:8080/"
        },
        "id": "9GiASmyiUKhX",
        "outputId": "afecddca-87f2-494c-b2d0-21266c2ee25c"
      },
      "execution_count": null,
      "outputs": [
        {
          "output_type": "stream",
          "name": "stdout",
          "text": [
            "\n"
          ]
        }
      ]
    },
    {
      "cell_type": "code",
      "source": [],
      "metadata": {
        "id": "JfGYlPyIUnfz"
      },
      "execution_count": null,
      "outputs": []
    }
  ]
}