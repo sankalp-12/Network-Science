{
  "nbformat": 4,
  "nbformat_minor": 0,
  "metadata": {
    "colab": {
      "provenance": []
    },
    "kernelspec": {
      "name": "python3",
      "display_name": "Python 3"
    },
    "language_info": {
      "name": "python"
    }
  },
  "cells": [
    {
      "cell_type": "code",
      "execution_count": null,
      "metadata": {
        "colab": {
          "base_uri": "https://localhost:8080/"
        },
        "id": "irIbg7XdecoW",
        "outputId": "e1bbd816-8d58-4a40-94e5-561e84649fdd"
      },
      "outputs": [
        {
          "output_type": "stream",
          "name": "stdout",
          "text": [
            "Looking in indexes: https://pypi.org/simple, https://us-python.pkg.dev/colab-wheels/public/simple/\n",
            "Requirement already satisfied: networkx in /usr/local/lib/python3.10/dist-packages (3.1)\n",
            "Looking in indexes: https://pypi.org/simple, https://us-python.pkg.dev/colab-wheels/public/simple/\n",
            "Collecting powerlaw\n",
            "  Downloading powerlaw-1.5-py3-none-any.whl (24 kB)\n",
            "Requirement already satisfied: mpmath in /usr/local/lib/python3.10/dist-packages (from powerlaw) (1.3.0)\n",
            "Requirement already satisfied: numpy in /usr/local/lib/python3.10/dist-packages (from powerlaw) (1.22.4)\n",
            "Requirement already satisfied: scipy in /usr/local/lib/python3.10/dist-packages (from powerlaw) (1.10.1)\n",
            "Requirement already satisfied: matplotlib in /usr/local/lib/python3.10/dist-packages (from powerlaw) (3.7.1)\n",
            "Requirement already satisfied: fonttools>=4.22.0 in /usr/local/lib/python3.10/dist-packages (from matplotlib->powerlaw) (4.39.3)\n",
            "Requirement already satisfied: packaging>=20.0 in /usr/local/lib/python3.10/dist-packages (from matplotlib->powerlaw) (23.1)\n",
            "Requirement already satisfied: contourpy>=1.0.1 in /usr/local/lib/python3.10/dist-packages (from matplotlib->powerlaw) (1.0.7)\n",
            "Requirement already satisfied: kiwisolver>=1.0.1 in /usr/local/lib/python3.10/dist-packages (from matplotlib->powerlaw) (1.4.4)\n",
            "Requirement already satisfied: pyparsing>=2.3.1 in /usr/local/lib/python3.10/dist-packages (from matplotlib->powerlaw) (3.0.9)\n",
            "Requirement already satisfied: pillow>=6.2.0 in /usr/local/lib/python3.10/dist-packages (from matplotlib->powerlaw) (8.4.0)\n",
            "Requirement already satisfied: python-dateutil>=2.7 in /usr/local/lib/python3.10/dist-packages (from matplotlib->powerlaw) (2.8.2)\n",
            "Requirement already satisfied: cycler>=0.10 in /usr/local/lib/python3.10/dist-packages (from matplotlib->powerlaw) (0.11.0)\n",
            "Requirement already satisfied: six>=1.5 in /usr/local/lib/python3.10/dist-packages (from python-dateutil>=2.7->matplotlib->powerlaw) (1.16.0)\n",
            "Installing collected packages: powerlaw\n",
            "Successfully installed powerlaw-1.5\n"
          ]
        }
      ],
      "source": [
        "!pip install networkx\n",
        "!pip install powerlaw"
      ]
    },
    {
      "cell_type": "code",
      "source": [
        "import itertools\n",
        "import math\n",
        "import networkx as nx\n",
        "from networkx.utils import create_random_state\n",
        "\n",
        "# create a random seed\n",
        "seed = create_random_state(None)\n",
        "\n",
        "def StochasticBlockModel(sizes, p, threshold, k, nodelist=None, seed=seed):\n",
        "    if nodelist is not None:\n",
        "        if len(nodelist) != sum(sizes):\n",
        "            raise nx.NetworkXException(\"'nodelist' and 'sizes' do not match.\")\n",
        "        if len(nodelist) != len(set(nodelist)):\n",
        "            raise nx.NetworkXException(\"nodelist contains duplicate.\")\n",
        "    else:\n",
        "        nodelist = range(0, sum(sizes))\n",
        "\n",
        "    block_range = range(len(sizes))\n",
        "    g = nx.Graph()\n",
        "    block_iter = itertools.combinations_with_replacement(block_range, 2)\n",
        "    \n",
        "    # Split nodelist in a partition (list of sets).\n",
        "    size_cumsum = [sum(sizes[0:x]) for x in range(0, len(sizes) + 1)]\n",
        "    g.graph[\"partition\"] = [\n",
        "        set(nodelist[size_cumsum[x] : size_cumsum[x + 1]])\n",
        "        for x in range(0, len(size_cumsum) - 1)\n",
        "    ]\n",
        "    # Setup nodes and graph name\n",
        "    for block_id, nodes in enumerate(g.graph[\"partition\"]):\n",
        "        for node in nodes:\n",
        "            g.add_node(node, block=block_id)\n",
        "\n",
        "    g.name = \"stochastic_block_model\"\n",
        "\n",
        "    # Test for edge existence\n",
        "    parts = g.graph[\"partition\"]\n",
        "    for i, j in block_iter:\n",
        "        if i == j:\n",
        "            edges = itertools.combinations(parts[i], 2)\n",
        "            for e in edges:\n",
        "                if seed.random() < p[i][j]:\n",
        "                    g.add_edge(*e)\n",
        "                    p[i][j] += threshold\n",
        "                    if p[i][j] > threshold*k:\n",
        "                      p[i][j] = threshold*k\n",
        "        else:\n",
        "            edges = itertools.product(parts[i], parts[j])\n",
        "            for e in edges:\n",
        "                if seed.random() < p[i][j]:\n",
        "                    g.add_edge(*e)  \n",
        "                    p[i][j] -= threshold\n",
        "                    if p[i][j] < threshold/k:\n",
        "                      p[i][j] = threshold/k\n",
        "    return g"
      ],
      "metadata": {
        "id": "sEMYlCsq_wvh"
      },
      "execution_count": null,
      "outputs": []
    },
    {
      "cell_type": "code",
      "source": [
        "import networkx as nx\n",
        "import numpy as np\n",
        "import matplotlib.pyplot as plt\n",
        "from networkx.algorithms import community\n",
        "import random\n",
        "\n",
        "# Define the triadic closure function\n",
        "def TriadicClosure(G, threshold, N):\n",
        "    for u in G.nodes():\n",
        "        for v in G.nodes():\n",
        "            if u == v:\n",
        "                continue\n",
        "            u_neighbors = set(G.neighbors(u))\n",
        "            v_neighbors = set(G.neighbors(v))\n",
        "            u_deg = G.degree(u)\n",
        "            v_deg = G.degree(v)\n",
        "            if u_deg + v_deg == 0:\n",
        "              continue\n",
        "            common_neighbors = u_neighbors.intersection(v_neighbors)\n",
        "            k = len(common_neighbors)\n",
        "            p = (2*k)/(u_deg+v_deg) \n",
        "            if p >= 1:\n",
        "              p = 1\n",
        "            if np.random.random() < p:\n",
        "                G.add_edge(u, v)\n"
      ],
      "metadata": {
        "id": "0bXrlr-z-YYV"
      },
      "execution_count": null,
      "outputs": []
    },
    {
      "cell_type": "code",
      "source": [
        "import networkx as nx\n",
        "import numpy as np\n",
        "import matplotlib.pyplot as plt\n",
        "from networkx.algorithms import community\n",
        "import math\n",
        "import random\n",
        "\n",
        "def ConstantPreferential(G, new_node, iter):\n",
        "    # calculate the degree distribution\n",
        "    degrees = [G.degree(node) for node in G.nodes()]\n",
        "    total_degree = sum(degrees)\n",
        "    prob = [degree / total_degree for degree in degrees]\n",
        "\n",
        "    existing_node = random.choices(list(G.nodes()), weights=prob)[0]\n",
        "    while (new_node == existing_node or G.degree(existing_node) == 0):\n",
        "      existing_node = random.choices(list(G.nodes()), weights=prob)[0]\n",
        "    G.add_edge(new_node, existing_node)\n",
        "    iter = iter - 1\n",
        "    \n",
        "    # repeat m times to add more edges\n",
        "    while iter > 0:\n",
        "      for node in G.neighbors(existing_node):\n",
        "        if (node != new_node and not G.has_edge(new_node, node)):\n",
        "          G.add_edge(new_node, node)\n",
        "          iter = iter - 1\n",
        "          if iter <= 0:\n",
        "            break\n",
        "      if iter <= 0:\n",
        "        break\n",
        "      # calculate the degree distribution\n",
        "      degrees = [G.degree(node) for node in G.nodes()]\n",
        "      total_degree = sum(degrees)\n",
        "      prob = [degree / total_degree for degree in degrees]\n",
        "\n",
        "      existing_node = random.choices(list(G.nodes()), weights=prob)[0]\n",
        "      while (new_node == existing_node or G.degree(existing_node) == 0 or G.has_edge(new_node, existing_node)):\n",
        "        existing_node = random.choices(list(G.nodes()), weights=prob)[0]\n",
        "      G.add_edge(new_node, existing_node)\n",
        "      iter = iter - 1\n",
        "\n",
        "def VariablePreferential(G, new_node, iter):\n",
        "    # calculate the degree distribution\n",
        "    degrees = [G.degree(node) for node in G.nodes()]\n",
        "    total_degree = sum(degrees)\n",
        "    prob = [degree / total_degree for degree in degrees]\n",
        "\n",
        "    existing_node = random.choices(list(G.nodes()), weights=prob)[0]\n",
        "    while (new_node == existing_node or G.degree(existing_node) == 0):\n",
        "      existing_node = random.choices(list(G.nodes()), weights=prob)[0]\n",
        "    G.add_edge(new_node, existing_node)\n",
        "\n",
        "    iter = iter - 1\n",
        "    # repeat m times to add more edges\n",
        "    while iter > 0:\n",
        "      ndegrees = [G.degree(node) for node in G.neighbors(existing_node)]\n",
        "      ntotal_degree = sum(ndegrees)\n",
        "      nprob = [degree / ntotal_degree for degree in ndegrees]\n",
        "      neighbor = random.choices(list(G.neighbors(existing_node)), weights=nprob)[0]     \n",
        "      while (new_node == neighbor):\n",
        "        neighbor = random.choices(list(G.neighbors(existing_node)), weights=nprob)[0]\n",
        "      G.add_edge(new_node, neighbor)\n",
        "      iter = iter - 1\n",
        "      if iter == 1:\n",
        "        ndegrees = [G.degree(node) for node in G.neighbors(existing_node)]\n",
        "        ntotal_degree = sum(ndegrees)\n",
        "        nprob = [degree / ntotal_degree for degree in ndegrees]\n",
        "        neighbor = random.choices(list(G.neighbors(existing_node)), weights=nprob)[0]     \n",
        "        while (new_node == neighbor or G.has_edge(new_node, neighbor)):\n",
        "          neighbor = random.choices(list(G.neighbors(existing_node)), weights=nprob)[0]\n",
        "        G.add_edge(new_node, neighbor)\n",
        "        iter = iter - 1\n",
        "      if iter <=0:\n",
        "        break\n",
        "\n",
        "      # calculate the degree distribution\n",
        "      degrees = [G.degree(node) for node in G.nodes()]\n",
        "      total_degree = sum(degrees)\n",
        "      prob = [degree / total_degree for degree in degrees]\n",
        " \n",
        "      existing_node = random.choices(list(G.nodes()), weights=prob)[0]\n",
        "      while (new_node == existing_node or G.degree(existing_node) == 0):\n",
        "        existing_node = random.choices(list(G.nodes()), weights=prob)[0]\n",
        "      G.add_edge(new_node, existing_node)\n",
        "      iter = iter - 1"
      ],
      "metadata": {
        "id": "jhANaK5S6XP2"
      },
      "execution_count": null,
      "outputs": []
    },
    {
      "cell_type": "code",
      "source": [
        "import networkx as nx\n",
        "import numpy as np\n",
        "import matplotlib.pyplot as plt\n",
        "from networkx.algorithms import community\n",
        "import math\n",
        "import random\n",
        "\n",
        "N = 769 # Max degree of a Node possible (Nodes - 1) \n",
        "k = int(math.sqrt(N)) # sqroot(n), the number of blocks\n",
        "I = int(math.sqrt(k)) # sqroot(k) to k, number of triadic closure runs\n",
        "n = k*I # 10% of N, the number of nodes in our SBM\n",
        "d = 46 # average degree\n",
        "threshold = d/N\n",
        "\n",
        "# Generate the SBM graph\n",
        "block_sizes = [n // k] * k\n",
        "p = np.ones((k, k)) * np.random.uniform(low=threshold/I, high=threshold, size=(k, k))\n",
        "np.fill_diagonal(p, np.random.uniform(low=threshold, high=threshold*I, size=k))\n",
        "p = np.clip(p, 0, 1)\n",
        "p = (p + p.T) / 2  # make p symmetrical\n",
        "\n",
        "G = StochasticBlockModel(block_sizes, p, threshold, k)\n",
        "\n",
        "block_membership = [0] * n\n",
        "for i in range(k):\n",
        "    block_membership[i * (n // k):(i + 1) * (n // k)] = [i] * (n // k)\n",
        "\n",
        "# Create a dictionary of labels, where the keys are the node IDs and the values are the block numbers\n",
        "labels = {}\n",
        "for i in range(n):\n",
        "    labels[i] = block_membership[i]\n",
        "\n",
        "nx.set_node_attributes(G, labels, 'block')\n",
        "\n",
        "for i in range(1):\n",
        "  # Call the triadic closure function\n",
        "  TriadicClosure(G, threshold, N)\n",
        "\n",
        "newNodes = N-n\n",
        "newLinks = d//2 + 1\n",
        "\n",
        "for i in range(newNodes):\n",
        "    iter = newLinks\n",
        "    new_node = i + n\n",
        "    G.add_node(new_node)\n",
        "\n",
        "    # 0 for Constant / 1 for Variable\n",
        "    PrefThresh = 0\n",
        "\n",
        "    if np.random.random() < PrefThresh:\n",
        "      VariablePreferential(G, new_node, iter)\n",
        "    else:\n",
        "      ConstantPreferential(G, new_node, iter)\n",
        "\n",
        "# # Draw the graph with different colors for each block\n",
        "# pos = nx.kamada_kawai_layout(G)\n",
        "# nx.draw(G, pos, node_size=1)\n",
        "\n",
        "# Calculate the average clustering coefficient for the graph\n",
        "avg_clustering = nx.average_clustering(G)\n",
        "print(f\"Average clustering coefficient: {avg_clustering}\")\n",
        "\n",
        "# Calculate the diameter of the graph\n",
        "if nx.is_connected(G):\n",
        "  diameter = nx.diameter(G)\n",
        "  print(f\"The diameter of the graph is {diameter}.\")\n",
        "\n",
        "# find the average degree\n",
        "avg_degree = sum(dict(G.degree()).values()) / len(G)\n",
        "print(\"Average degree:\", avg_degree)\n",
        "\n",
        "# find the communities\n",
        "communities = list(community.greedy_modularity_communities(G))\n",
        "print(\"Number of communities:\", len(communities))\n",
        "\n",
        "# find the degree distribution\n",
        "degree_sequence = sorted([d for n, d in G.degree()], reverse=True)\n",
        "degree_count = dict()\n",
        "for degree in degree_sequence:\n",
        "    if degree in degree_count:\n",
        "        degree_count[degree] += 1\n",
        "    else:\n",
        "        degree_count[degree] = 1\n",
        "degrees = sorted(degree_count.keys())\n",
        "degree_counts = [degree_count[degree] for degree in degrees]\n",
        "\n",
        "# # plot the degree distribution\n",
        "plt.bar(degrees, degree_counts)\n",
        "plt.title(\"Degree Distribution [Variable PA]\")\n",
        "plt.xlabel(\"Degree\")\n",
        "plt.ylabel(\"Count\")\n",
        "plt.show()\n",
        "\n"
      ],
      "metadata": {
        "id": "ZA_Q9A-OU6Zg",
        "colab": {
          "base_uri": "https://localhost:8080/",
          "height": 524
        },
        "outputId": "5ae185ce-c319-499b-9e5c-ada8b8b0e120"
      },
      "execution_count": null,
      "outputs": [
        {
          "output_type": "stream",
          "name": "stdout",
          "text": [
            "Average clustering coefficient: 0.3769400168271035\n",
            "Average degree: 44.2444733420026\n",
            "Number of communities: 7\n"
          ]
        },
        {
          "output_type": "display_data",
          "data": {
            "text/plain": [
              "<Figure size 640x480 with 1 Axes>"
            ],
            "image/png": "[encoded data removed]"
          },
          "metadata": {}
        }
      ]
    },
    {
      "cell_type": "code",
      "source": [
        "import networkx as nx\n",
        "import numpy as np\n",
        "import matplotlib.pyplot as plt\n",
        "from networkx.algorithms import community\n",
        "import math\n",
        "import random\n",
        "\n",
        "n = 769  # number of nodes\n",
        "p = 0.057  # probability of edge creation\n",
        "\n",
        "G = nx.erdos_renyi_graph(n, p)\n",
        "\n",
        "print(f\"The Erdos-Renyi graph has {G.number_of_nodes()} nodes and {G.number_of_edges()} edges.\")\n",
        "\n",
        "# Calculate the average clustering coefficient for the graph\n",
        "avg_clustering = nx.average_clustering(G)\n",
        "print(f\"Average clustering coefficient: {avg_clustering}\")\n",
        "\n",
        "# Calculate the diameter of the graph\n",
        "if nx.is_connected(G):\n",
        "  diameter = nx.diameter(G)\n",
        "  print(f\"The diameter of the graph is {diameter}.\")\n",
        "\n",
        "# find the average degree\n",
        "avg_degree = sum(dict(G.degree()).values()) / len(G)\n",
        "print(\"Average degree:\", avg_degree)\n",
        "\n",
        "# find the communities\n",
        "communities = list(community.greedy_modularity_communities(G))\n",
        "print(\"Number of communities:\", len(communities))\n",
        "\n",
        "# find the degree distribution\n",
        "degree_sequence = sorted([d for n, d in G.degree()], reverse=True)\n",
        "degree_count = dict()\n",
        "for degree in degree_sequence:\n",
        "    if degree in degree_count:\n",
        "        degree_count[degree] += 1\n",
        "    else:\n",
        "        degree_count[degree] = 1\n",
        "degrees = sorted(degree_count.keys())\n",
        "degree_counts = [degree_count[degree] for degree in degrees]\n",
        "\n",
        "# # plot the degree distribution\n",
        "plt.bar(degrees, degree_counts)\n",
        "plt.title(\"Degree Distribution [Erdos-Renyi]\")\n",
        "plt.xlabel(\"Degree\")\n",
        "plt.ylabel(\"Count\")\n",
        "plt.show()"
      ],
      "metadata": {
        "colab": {
          "base_uri": "https://localhost:8080/",
          "height": 559
        },
        "id": "y2PuLv5y0F3H",
        "outputId": "3f2fa961-41de-466c-8894-88c21b741852"
      },
      "execution_count": null,
      "outputs": [
        {
          "output_type": "stream",
          "name": "stdout",
          "text": [
            "The Erdos-Renyi graph has 769 nodes and 16825 edges.\n",
            "Average clustering coefficient: 0.05692583394882846\n",
            "The diameter of the graph is 3.\n",
            "Average degree: 43.75812743823147\n",
            "Number of communities: 5\n"
          ]
        },
        {
          "output_type": "display_data",
          "data": {
            "text/plain": [
              "<Figure size 640x480 with 1 Axes>"
            ],
            "image/png": "[encoded data removed]"
          },
          "metadata": {}
        }
      ]
    },
    {
      "cell_type": "code",
      "source": [
        "import networkx as nx\n",
        "import numpy as np\n",
        "import matplotlib.pyplot as plt\n",
        "from networkx.algorithms import community\n",
        "import math\n",
        "import random\n",
        "\n",
        "n = 769  # number of nodes\n",
        "m = 23  # number of edges to attach from a new node to existing nodes\n",
        "\n",
        "G = nx.barabasi_albert_graph(n, m)\n",
        "\n",
        "print(f\"The Barabasi-Albert graph has {G.number_of_nodes()} nodes and {G.number_of_edges()} edges.\")\n",
        "\n",
        "# Calculate the average clustering coefficient for the graph\n",
        "avg_clustering = nx.average_clustering(G)\n",
        "print(f\"Average clustering coefficient: {avg_clustering}\")\n",
        "\n",
        "# Calculate the diameter of the graph\n",
        "if nx.is_connected(G):\n",
        "  diameter = nx.diameter(G)\n",
        "  print(f\"The diameter of the graph is {diameter}.\")\n",
        "\n",
        "# find the average degree\n",
        "avg_degree = sum(dict(G.degree()).values()) / len(G)\n",
        "print(\"Average degree:\", avg_degree)\n",
        "\n",
        "# find the communities\n",
        "communities = list(community.greedy_modularity_communities(G))\n",
        "print(\"Number of communities:\", len(communities))\n",
        "\n",
        "# find the degree distribution\n",
        "degree_sequence = sorted([d for n, d in G.degree()], reverse=True)\n",
        "degree_count = dict()\n",
        "for degree in degree_sequence:\n",
        "    if degree in degree_count:\n",
        "        degree_count[degree] += 1\n",
        "    else:\n",
        "        degree_count[degree] = 1\n",
        "degrees = sorted(degree_count.keys())\n",
        "degree_counts = [degree_count[degree] for degree in degrees]\n",
        "\n",
        "# # plot the degree distribution\n",
        "plt.bar(degrees, degree_counts)\n",
        "plt.title(\"Degree Distribution [Barabasi-Albert]\")\n",
        "plt.xlabel(\"Degree\")\n",
        "plt.ylabel(\"Count\")\n",
        "plt.show()"
      ],
      "metadata": {
        "colab": {
          "base_uri": "https://localhost:8080/",
          "height": 559
        },
        "id": "ZN3wv6p46TxN",
        "outputId": "2909d40a-05aa-4dda-ff7b-bd14d41d935e"
      },
      "execution_count": null,
      "outputs": [
        {
          "output_type": "stream",
          "name": "stdout",
          "text": [
            "The Barabasi-Albert graph has 769 nodes and 17158 edges.\n",
            "Average clustering coefficient: 0.12503757232374363\n",
            "The diameter of the graph is 3.\n",
            "Average degree: 44.62418725617685\n",
            "Number of communities: 5\n"
          ]
        },
        {
          "output_type": "display_data",
          "data": {
            "text/plain": [
              "<Figure size 640x480 with 1 Axes>"
            ],
            "image/png": "[encoded data removed]"
          },
          "metadata": {}
        }
      ]
    },
    {
      "cell_type": "code",
      "source": [
        "import networkx as nx\n",
        "import numpy as np\n",
        "import matplotlib.pyplot as plt\n",
        "from networkx.algorithms import community\n",
        "import math\n",
        "import random\n",
        "\n",
        "n = 769\n",
        "k = 43\n",
        "p = 0.5\n",
        "\n",
        "G = nx.watts_strogatz_graph(n, k, p)\n",
        "\n",
        "print(f\"The Watts-Strogatz graph has {G.number_of_nodes()} nodes and {G.number_of_edges()} edges.\")\n",
        "\n",
        "# Calculate the average clustering coefficient for the graph\n",
        "avg_clustering = nx.average_clustering(G)\n",
        "print(f\"Average clustering coefficient: {avg_clustering}\")\n",
        "\n",
        "# Calculate the diameter of the graph\n",
        "if nx.is_connected(G):\n",
        "  diameter = nx.diameter(G)\n",
        "  print(f\"The diameter of the graph is {diameter}.\")\n",
        "\n",
        "# find the average degree\n",
        "avg_degree = sum(dict(G.degree()).values()) / len(G)\n",
        "print(\"Average degree:\", avg_degree)\n",
        "\n",
        "# find the communities\n",
        "communities = list(community.greedy_modularity_communities(G))\n",
        "print(\"Number of communities:\", len(communities))\n",
        "\n",
        "# find the degree distribution\n",
        "degree_sequence = sorted([d for n, d in G.degree()], reverse=True)\n",
        "degree_count = dict()\n",
        "for degree in degree_sequence:\n",
        "    if degree in degree_count:\n",
        "        degree_count[degree] += 1\n",
        "    else:\n",
        "        degree_count[degree] = 1\n",
        "degrees = sorted(degree_count.keys())\n",
        "degree_counts = [degree_count[degree] for degree in degrees]\n",
        "\n",
        "# # plot the degree distribution\n",
        "plt.bar(degrees, degree_counts)\n",
        "plt.title(\"Degree Distribution [Watts-Strogatz]\")\n",
        "plt.xlabel(\"Degree\")\n",
        "plt.ylabel(\"Count\")\n",
        "plt.show()"
      ],
      "metadata": {
        "colab": {
          "base_uri": "https://localhost:8080/",
          "height": 559
        },
        "outputId": "b22091c0-cf61-4b59-a467-1d1e73e002dc",
        "id": "kvaTejnl5HSU"
      },
      "execution_count": null,
      "outputs": [
        {
          "output_type": "stream",
          "name": "stdout",
          "text": [
            "The Watts-Strogatz graph has 769 nodes and 16149 edges.\n",
            "Average clustering coefficient: 0.13010231314108525\n",
            "The diameter of the graph is 3.\n",
            "Average degree: 42.0\n",
            "Number of communities: 3\n"
          ]
        },
        {
          "output_type": "display_data",
          "data": {
            "text/plain": [
              "<Figure size 640x480 with 1 Axes>"
            ],
            "image/png": "[encoded data removed]"
          },
          "metadata": {}
        }
      ]
    },
    {
      "cell_type": "code",
      "source": [
        "import networkx as nx\n",
        "import numpy as np\n",
        "import matplotlib.pyplot as plt\n",
        "from networkx.algorithms import community\n",
        "import math\n",
        "import random\n",
        "\n",
        "n = 769  # number of nodes\n",
        "m = 16500  # number of edges\n",
        "\n",
        "G = nx.generators.random_graphs.gnm_random_graph(n, m)\n",
        "\n",
        "print(f\"The R-MAT graph has {G.number_of_nodes()} nodes and {G.number_of_edges()} edges.\")\n",
        "\n",
        "# Calculate the average clustering coefficient for the graph\n",
        "avg_clustering = nx.average_clustering(G)\n",
        "print(f\"Average clustering coefficient: {avg_clustering}\")\n",
        "\n",
        "# Calculate the diameter of the graph\n",
        "if nx.is_connected(G):\n",
        "  diameter = nx.diameter(G)\n",
        "  print(f\"The diameter of the graph is {diameter}.\")\n",
        "\n",
        "# find the average degree\n",
        "avg_degree = sum(dict(G.degree()).values()) / len(G)\n",
        "print(\"Average degree:\", avg_degree)\n",
        "\n",
        "# find the communities\n",
        "communities = list(community.greedy_modularity_communities(G))\n",
        "print(\"Number of communities:\", len(communities))\n",
        "\n",
        "# find the degree distribution\n",
        "degree_sequence = sorted([d for n, d in G.degree()], reverse=True)\n",
        "degree_count = dict()\n",
        "for degree in degree_sequence:\n",
        "    if degree in degree_count:\n",
        "        degree_count[degree] += 1\n",
        "    else:\n",
        "        degree_count[degree] = 1\n",
        "degrees = sorted(degree_count.keys())\n",
        "degree_counts = [degree_count[degree] for degree in degrees]\n",
        "\n",
        "# # plot the degree distribution\n",
        "plt.bar(degrees, degree_counts)\n",
        "plt.title(\"Degree Distribution [R-MAT]\")\n",
        "plt.xlabel(\"Degree\")\n",
        "plt.ylabel(\"Count\")\n",
        "plt.show()"
      ],
      "metadata": {
        "colab": {
          "base_uri": "https://localhost:8080/",
          "height": 559
        },
        "id": "-4FimQnl4oSO",
        "outputId": "c1849533-5b25-416f-bca9-0686495bad6f"
      },
      "execution_count": null,
      "outputs": [
        {
          "output_type": "stream",
          "name": "stdout",
          "text": [
            "The R-MAT graph has 769 nodes and 16500 edges.\n",
            "Average clustering coefficient: 0.05607009528050399\n",
            "The diameter of the graph is 3.\n",
            "Average degree: 42.91287386215865\n",
            "Number of communities: 4\n"
          ]
        },
        {
          "output_type": "display_data",
          "data": {
            "text/plain": [
              "<Figure size 640x480 with 1 Axes>"
            ],
            "image/png": "[encoded data removed]"
          },
          "metadata": {}
        }
      ]
    }
  ]
}